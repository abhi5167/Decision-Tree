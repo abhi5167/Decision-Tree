{
  "nbformat": 4,
  "nbformat_minor": 0,
  "metadata": {
    "colab": {
      "provenance": []
    },
    "kernelspec": {
      "name": "python3",
      "display_name": "Python 3"
    },
    "language_info": {
      "name": "python"
    }
  },
  "cells": [
    {
      "cell_type": "markdown",
      "source": [
        "# **Decision Tree**"
      ],
      "metadata": {
        "id": "STGRCJSraU4-"
      }
    },
    {
      "cell_type": "markdown",
      "source": [
        "**Theoretical Questions**"
      ],
      "metadata": {
        "id": "1O0SHYngadEF"
      }
    },
    {
      "cell_type": "markdown",
      "source": [
        "Q.1 What is a Decision Tree, and how does it work?\n",
        "\n",
        "\n",
        "Answer:\n",
        "A Decision Tree is a supervised machine learning algorithm used for classification and regression. It works by recursively splitting the dataset into subsets based on feature values, creating a tree-like structure where each internal node represents a decision rule on a feature, each branch represents an outcome of the rule, and each leaf node represents a class label or regression value. The model predicts by traversing from the root to a leaf according to the input features.\n",
        "\n",
        "Q.2 What are impurity measures in Decision Trees?\n",
        "\n",
        "\n",
        "Answer:\n",
        "Impurity measures quantify how mixed or impure a node is regarding the target classes. They help decide the best split by measuring the homogeneity of the data at a node. Common impurity measures include Gini Impurity and Entropy. A node with lower impurity is more pure, meaning it contains mostly samples from one class.\n",
        "\n",
        "Q.3 What is the mathematical formula for Gini Impurity?\n",
        "\n",
        "\n",
        "Answer:\n",
        "For a node with classes\n",
        "𝑘\n",
        "k, the Gini Impurity is calculated as:\n",
        "\n",
        "𝐺\n",
        "𝑖\n",
        "𝑛\n",
        "𝑖\n",
        "=\n",
        "1\n",
        "−\n",
        "∑\n",
        "𝑖\n",
        "=\n",
        "1\n",
        "𝑘\n",
        "𝑝\n",
        "𝑖\n",
        "2\n",
        "Gini=1−\n",
        "i=1\n",
        "∑\n",
        "k\n",
        "​\n",
        " p\n",
        "i\n",
        "2\n",
        "​\n",
        "\n",
        "where\n",
        "𝑝\n",
        "𝑖\n",
        "p\n",
        "i\n",
        "​\n",
        "  is the proportion of samples belonging to class\n",
        "𝑖\n",
        "i in the node.\n",
        "\n",
        "Q.4 What is the mathematical formula for Entropy?\n",
        "\n",
        "\n",
        "Answer:\n",
        "Entropy is calculated as:\n",
        "\n",
        "𝐸\n",
        "𝑛\n",
        "𝑡\n",
        "𝑟\n",
        "𝑜\n",
        "𝑝\n",
        "𝑦\n",
        "=\n",
        "−\n",
        "∑\n",
        "𝑖\n",
        "=\n",
        "1\n",
        "𝑘\n",
        "𝑝\n",
        "𝑖\n",
        "log\n",
        "⁡\n",
        "2\n",
        "(\n",
        "𝑝\n",
        "𝑖\n",
        ")\n",
        "Entropy=−\n",
        "i=1\n",
        "∑\n",
        "k\n",
        "​\n",
        " p\n",
        "i\n",
        "​\n",
        " log\n",
        "2\n",
        "​\n",
        " (p\n",
        "i\n",
        "​\n",
        " )\n",
        "where\n",
        "𝑝\n",
        "𝑖\n",
        "p\n",
        "i\n",
        "​\n",
        "  is the probability of class\n",
        "𝑖\n",
        "i in the node.\n",
        "\n",
        "Q.5 What is Information Gain, and how is it used in Decision Trees?\n",
        "\n",
        "\n",
        "Answer:\n",
        "Information Gain measures the reduction in impurity after a dataset is split on a feature. It is calculated as the difference between the impurity of the parent node and the weighted sum of the impurities of the child nodes. The feature with the highest Information Gain is chosen for the split.\n",
        "\n",
        "Q.6 What is the difference between Gini Impurity and Entropy?\n",
        "\n",
        "\n",
        "Answer:\n",
        "Both measure node impurity. Gini Impurity measures the probability of misclassification, is simpler computationally, and tends to be more sensitive to the most frequent class. Entropy measures the disorder or uncertainty in the node. Both often lead to similar splits in practice.\n",
        "\n",
        "Q.7 What is the mathematical explanation behind Decision Trees?\n",
        "\n",
        "\n",
        "Answer:\n",
        "Decision Trees recursively partition the data by selecting splits that minimize an impurity function (like Gini or Entropy). At each step, the algorithm chooses the feature and threshold that best separates the classes, aiming to create pure leaf nodes representing distinct classes or values.\n",
        "\n",
        "Q.8 What is Pre-Pruning in Decision Trees?\n",
        "\n",
        "\n",
        "Answer:\n",
        "Pre-Pruning stops the growth of the tree early by setting criteria such as maximum depth, minimum samples per split, or minimum impurity decrease. This prevents overfitting by limiting the complexity of the tree.\n",
        "\n",
        "Q.9 What is Post-Pruning in Decision Trees?\n",
        "\n",
        "\n",
        "Answer:\n",
        "Post-Pruning involves growing a full tree and then pruning back nodes that do not improve performance based on validation data, simplifying the model and reducing overfitting.\n",
        "\n",
        "Q.10 What is the difference between Pre-Pruning and Post-Pruning?\n",
        "\n",
        "\n",
        "Answer:\n",
        "Pre-Pruning halts tree growth early using stopping rules, while Post-Pruning first grows the entire tree and then removes unnecessary nodes afterward. Pre-Pruning is proactive; Post-Pruning is reactive.\n",
        "\n",
        "Q.11 What is a Decision Tree Regressor?\n",
        "\n",
        "\n",
        "Answer:\n",
        "A Decision Tree Regressor is a decision tree model used for regression problems. It predicts continuous values by splitting data to minimize the variance of the target variable within each leaf node.\n",
        "\n",
        "Q.12 What are the advantages and disadvantages of Decision Trees?\n",
        "\n",
        "\n",
        "Answer:\n",
        "Advantages:\n",
        "\n",
        "Easy to interpret and visualize.\n",
        "\n",
        "Requires minimal data preprocessing.\n",
        "\n",
        "Can handle both categorical and numerical data.\n",
        "\n",
        "Captures non-linear relationships.\n",
        "\n",
        "Disadvantages:\n",
        "\n",
        "Prone to overfitting if not pruned.\n",
        "\n",
        "Can be unstable to small data changes.\n",
        "\n",
        "Biased towards features with many levels.\n",
        "\n",
        "Q.13 How does a Decision Tree handle missing values?\n",
        "\n",
        "\n",
        "Answer:\n",
        "Decision Trees handle missing values by surrogate splits (using alternative features for splitting when primary is missing) or by imputing missing values before training.\n",
        "\n",
        "Q.14 How does a Decision Tree handle categorical features?\n",
        "\n",
        "\n",
        "Answer:\n",
        "Decision Trees split categorical features by checking category membership or grouping categories. Some implementations encode categories internally to find the best splits.\n",
        "\n",
        "Q.15 What are some real-world applications of Decision Trees?\n",
        "\n",
        "\n",
        "Answer:\n",
        "\n",
        "Medical diagnosis (predicting diseases).\n",
        "\n",
        "Credit risk scoring.\n",
        "\n",
        "Customer churn prediction.\n",
        "\n",
        "Fraud detection.\n",
        "\n",
        "Manufacturing quality control.\n",
        "\n"
      ],
      "metadata": {
        "id": "GOvkxd3PaAiv"
      }
    },
    {
      "cell_type": "markdown",
      "source": [
        "**Practical Question**"
      ],
      "metadata": {
        "id": "9Hkg6IDMaTAO"
      }
    },
    {
      "cell_type": "markdown",
      "source": [
        "Q.16 Write a Python program to train a Decision Tree Classifier on the Iris dataset and print the model accuracy."
      ],
      "metadata": {
        "id": "3FhdOsGBbIBQ"
      }
    },
    {
      "cell_type": "code",
      "source": [
        "from sklearn.datasets import load_iris\n",
        "from sklearn.tree import DecisionTreeClassifier\n",
        "from sklearn.model_selection import train_test_split\n",
        "from sklearn.metrics import accuracy_score\n",
        "\n",
        "# Load dataset\n",
        "iris = load_iris()\n",
        "X, y = iris.data, iris.target\n",
        "\n",
        "# Split dataset\n",
        "X_train, X_test, y_train, y_test = train_test_split(X, y, test_size=0.2, random_state=42)\n",
        "\n",
        "# Train model\n",
        "model = DecisionTreeClassifier()\n",
        "model.fit(X_train, y_train)\n",
        "\n",
        "# Predict and evaluate\n",
        "y_pred = model.predict(X_test)\n",
        "accuracy = accuracy_score(y_test, y_pred)\n",
        "print(\"Model Accuracy:\", accuracy)\n"
      ],
      "metadata": {
        "colab": {
          "base_uri": "https://localhost:8080/"
        },
        "id": "mz2AR0SKdNws",
        "outputId": "c228fd5a-1634-49de-cc01-db1b593ff821"
      },
      "execution_count": null,
      "outputs": [
        {
          "output_type": "stream",
          "name": "stdout",
          "text": [
            "Model Accuracy: 1.0\n"
          ]
        }
      ]
    },
    {
      "cell_type": "markdown",
      "source": [
        "Q.17 Write a Python program to train a Decision Tree Classifier using Gini Impurity as the criterion and print the feature importances.\n",
        "\n",
        "python\n",
        "Copy\n",
        "Edit\n"
      ],
      "metadata": {
        "id": "sjrM03QqdQD7"
      }
    },
    {
      "cell_type": "code",
      "source": [
        "model = DecisionTreeClassifier(criterion='gini', random_state=42)\n",
        "model.fit(X_train, y_train)\n",
        "print(\"Feature Importances:\", model.feature_importances_)\n"
      ],
      "metadata": {
        "colab": {
          "base_uri": "https://localhost:8080/"
        },
        "id": "gJcODnfgdXRs",
        "outputId": "c6396d69-8696-4ac4-930f-e5da3a2b35a9"
      },
      "execution_count": null,
      "outputs": [
        {
          "output_type": "stream",
          "name": "stdout",
          "text": [
            "Feature Importances: [0.         0.01667014 0.90614339 0.07718647]\n"
          ]
        }
      ]
    },
    {
      "cell_type": "markdown",
      "source": [
        "Q.18 Write a Python program to train a Decision Tree Classifier using Entropy as the splitting criterion and print the model accuracy."
      ],
      "metadata": {
        "id": "k3C0FjQNdex0"
      }
    },
    {
      "cell_type": "code",
      "source": [
        "model = DecisionTreeClassifier(criterion='entropy', random_state=42)\n",
        "model.fit(X_train, y_train)\n",
        "y_pred = model.predict(X_test)\n",
        "print(\"Model Accuracy with Entropy:\", accuracy_score(y_test, y_pred))\n"
      ],
      "metadata": {
        "colab": {
          "base_uri": "https://localhost:8080/"
        },
        "id": "MRUF63Tadir1",
        "outputId": "36f13176-ac99-44a7-d90e-92ff37524ff9"
      },
      "execution_count": null,
      "outputs": [
        {
          "output_type": "stream",
          "name": "stdout",
          "text": [
            "Model Accuracy with Entropy: 1.0\n"
          ]
        }
      ]
    },
    {
      "cell_type": "markdown",
      "source": [
        "Q.19 Write a Python program to train a Decision Tree Regressor on a housing dataset and evaluate using Mean Squared Error (MSE)."
      ],
      "metadata": {
        "id": "oNeQu6zedr2U"
      }
    },
    {
      "cell_type": "code",
      "source": [
        "from sklearn.datasets import fetch_california_housing\n",
        "from sklearn.tree import DecisionTreeRegressor\n",
        "from sklearn.metrics import mean_squared_error\n",
        "\n",
        "# Load dataset\n",
        "housing = fetch_california_housing()\n",
        "X_h, y_h = housing.data, housing.target\n",
        "\n",
        "X_train_h, X_test_h, y_train_h, y_test_h = train_test_split(X_h, y_h, test_size=0.2, random_state=42)\n",
        "\n",
        "# Train regressor\n",
        "regressor = DecisionTreeRegressor(random_state=42)\n",
        "regressor.fit(X_train_h, y_train_h)\n",
        "\n",
        "# Predict and evaluate\n",
        "y_pred_h = regressor.predict(X_test_h)\n",
        "mse = mean_squared_error(y_test_h, y_pred_h)\n",
        "print(\"Mean Squared Error:\", mse)\n"
      ],
      "metadata": {
        "colab": {
          "base_uri": "https://localhost:8080/"
        },
        "id": "fKWemxVkdvS2",
        "outputId": "8ca607ed-cedd-427c-fb8a-8411317811fd"
      },
      "execution_count": null,
      "outputs": [
        {
          "output_type": "stream",
          "name": "stdout",
          "text": [
            "Mean Squared Error: 0.495235205629094\n"
          ]
        }
      ]
    },
    {
      "cell_type": "markdown",
      "source": [
        "Q.20 Write a Python program to train a Decision Tree Classifier and visualize the tree using graphviz.\n",
        "\n",
        "python\n",
        "Copy\n",
        "Edit\n"
      ],
      "metadata": {
        "id": "UPSuaw0tdyRV"
      }
    },
    {
      "cell_type": "code",
      "source": [
        "from sklearn.tree import export_graphviz\n",
        "import graphviz\n",
        "\n",
        "model = DecisionTreeClassifier(random_state=42)\n",
        "model.fit(X_train, y_train)\n",
        "\n",
        "dot_data = export_graphviz(model, out_file=None, feature_names=iris.feature_names, class_names=iris.target_names, filled=True)\n",
        "graph = graphviz.Source(dot_data)\n",
        "graph.render(\"iris_tree\")  # Saves as iris_tree.pdf\n",
        "graph.view()\n"
      ],
      "metadata": {
        "colab": {
          "base_uri": "https://localhost:8080/",
          "height": 35
        },
        "id": "slkx2XNid4wV",
        "outputId": "4edba2c9-8bf1-4489-bf06-dab5d323062f"
      },
      "execution_count": null,
      "outputs": [
        {
          "output_type": "execute_result",
          "data": {
            "text/plain": [
              "'iris_tree.pdf'"
            ],
            "application/vnd.google.colaboratory.intrinsic+json": {
              "type": "string"
            }
          },
          "metadata": {},
          "execution_count": 5
        }
      ]
    },
    {
      "cell_type": "markdown",
      "source": [
        "Q.21 Write a Python program to train a Decision Tree Classifier with a maximum depth of 3 and compare its accuracy with a fully grown tree."
      ],
      "metadata": {
        "id": "QJcn2BNxeCwN"
      }
    },
    {
      "cell_type": "code",
      "source": [
        "# Max depth = 3\n",
        "model_depth3 = DecisionTreeClassifier(max_depth=3, random_state=42)\n",
        "model_depth3.fit(X_train, y_train)\n",
        "y_pred_3 = model_depth3.predict(X_test)\n",
        "acc_3 = accuracy_score(y_test, y_pred_3)\n",
        "\n",
        "# Fully grown tree\n",
        "model_full = DecisionTreeClassifier(random_state=42)\n",
        "model_full.fit(X_train, y_train)\n",
        "y_pred_full = model_full.predict(X_test)\n",
        "acc_full = accuracy_score(y_test, y_pred_full)\n",
        "\n",
        "print(\"Accuracy with max_depth=3:\", acc_3)\n",
        "print(\"Accuracy of fully grown tree:\", acc_full)\n"
      ],
      "metadata": {
        "colab": {
          "base_uri": "https://localhost:8080/"
        },
        "id": "C8E32WzkeEcU",
        "outputId": "b441584a-e0ac-46a0-c652-4c1a78d07bb7"
      },
      "execution_count": null,
      "outputs": [
        {
          "output_type": "stream",
          "name": "stdout",
          "text": [
            "Accuracy with max_depth=3: 1.0\n",
            "Accuracy of fully grown tree: 1.0\n"
          ]
        }
      ]
    },
    {
      "cell_type": "markdown",
      "source": [
        "Q.22 Write a Python program to train a Decision Tree Classifier using min_samples_split=5 and compare its accuracy with a default tree.\n",
        "\n",
        "python\n",
        "Copy\n",
        "Edit\n"
      ],
      "metadata": {
        "id": "vp_e1ikeeGZ8"
      }
    },
    {
      "cell_type": "code",
      "source": [
        "model_split5 = DecisionTreeClassifier(min_samples_split=5, random_state=42)\n",
        "model_split5.fit(X_train, y_train)\n",
        "y_pred_split5 = model_split5.predict(X_test)\n",
        "acc_split5 = accuracy_score(y_test, y_pred_split5)\n",
        "\n",
        "model_default = DecisionTreeClassifier(random_state=42)\n",
        "model_default.fit(X_train, y_train)\n",
        "y_pred_default = model_default.predict(X_test)\n",
        "acc_default = accuracy_score(y_test, y_pred_default)\n",
        "\n",
        "print(\"Accuracy with min_samples_split=5:\", acc_split5)\n",
        "print(\"Accuracy with default min_samples_split:\", acc_default)\n"
      ],
      "metadata": {
        "colab": {
          "base_uri": "https://localhost:8080/"
        },
        "id": "iUOVnDtFeI6G",
        "outputId": "270213fc-5f36-49e6-ceae-5986b449e28b"
      },
      "execution_count": null,
      "outputs": [
        {
          "output_type": "stream",
          "name": "stdout",
          "text": [
            "Accuracy with min_samples_split=5: 1.0\n",
            "Accuracy with default min_samples_split: 1.0\n"
          ]
        }
      ]
    },
    {
      "cell_type": "markdown",
      "source": [
        "Q.23 Write a Python program to apply feature scaling before training a Decision Tree Classifier and compare its accuracy with unscaled data.\n",
        "\n",
        "python\n",
        "Copy\n",
        "Edit\n"
      ],
      "metadata": {
        "id": "YwU3bngaeLCc"
      }
    },
    {
      "cell_type": "code",
      "source": [
        "from sklearn.preprocessing import StandardScaler\n",
        "\n",
        "# Scaling features\n",
        "scaler = StandardScaler()\n",
        "X_train_scaled = scaler.fit_transform(X_train)\n",
        "X_test_scaled = scaler.transform(X_test)\n",
        "\n",
        "# Train on scaled data\n",
        "model_scaled = DecisionTreeClassifier(random_state=42)\n",
        "model_scaled.fit(X_train_scaled, y_train)\n",
        "y_pred_scaled = model_scaled.predict(X_test_scaled)\n",
        "acc_scaled = accuracy_score(y_test, y_pred_scaled)\n",
        "\n",
        "# Train on unscaled data\n",
        "model_unscaled = DecisionTreeClassifier(random_state=42)\n",
        "model_unscaled.fit(X_train, y_train)\n",
        "y_pred_unscaled = model_unscaled.predict(X_test)\n",
        "acc_unscaled = accuracy_score(y_test, y_pred_unscaled)\n",
        "\n",
        "print(\"Accuracy with scaling:\", acc_scaled)\n",
        "print(\"Accuracy without scaling:\", acc_unscaled)\n"
      ],
      "metadata": {
        "colab": {
          "base_uri": "https://localhost:8080/"
        },
        "id": "wqp2eBnbeNz-",
        "outputId": "26d83abe-e79b-4ce6-dd90-07d4b796d585"
      },
      "execution_count": null,
      "outputs": [
        {
          "output_type": "stream",
          "name": "stdout",
          "text": [
            "Accuracy with scaling: 1.0\n",
            "Accuracy without scaling: 1.0\n"
          ]
        }
      ]
    },
    {
      "cell_type": "markdown",
      "source": [
        "Q.24 Write a Python program to train a Decision Tree Classifier using One-vs-Rest (OvR) strategy for multiclass classification."
      ],
      "metadata": {
        "id": "DdxsNoHWeP7n"
      }
    },
    {
      "cell_type": "code",
      "source": [
        "from sklearn.multiclass import OneVsRestClassifier\n",
        "\n",
        "ovr_model = OneVsRestClassifier(DecisionTreeClassifier(random_state=42))\n",
        "ovr_model.fit(X_train, y_train)\n",
        "y_pred_ovr = ovr_model.predict(X_test)\n",
        "print(\"OvR Model Accuracy:\", accuracy_score(y_test, y_pred_ovr))\n"
      ],
      "metadata": {
        "colab": {
          "base_uri": "https://localhost:8080/"
        },
        "id": "Y9DBIf0keSue",
        "outputId": "bff94a99-49c5-452a-ff13-01f651aed8ef"
      },
      "execution_count": null,
      "outputs": [
        {
          "output_type": "stream",
          "name": "stdout",
          "text": [
            "OvR Model Accuracy: 1.0\n"
          ]
        }
      ]
    },
    {
      "cell_type": "markdown",
      "source": [
        "Q.25 Write a Python program to train a Decision Tree Classifier and display the feature importance scores."
      ],
      "metadata": {
        "id": "ZEMBXETCeUkF"
      }
    },
    {
      "cell_type": "code",
      "source": [
        "model = DecisionTreeClassifier(random_state=42)\n",
        "model.fit(X_train, y_train)\n",
        "print(\"Feature Importances:\", model.feature_importances_)\n"
      ],
      "metadata": {
        "colab": {
          "base_uri": "https://localhost:8080/"
        },
        "id": "bCwnlPn4eW_l",
        "outputId": "187690b4-8f12-4fe0-a764-79bd9fa8da60"
      },
      "execution_count": null,
      "outputs": [
        {
          "output_type": "stream",
          "name": "stdout",
          "text": [
            "Feature Importances: [0.         0.01667014 0.90614339 0.07718647]\n"
          ]
        }
      ]
    },
    {
      "cell_type": "markdown",
      "source": [
        "Q.26 Write a Python program to train a Decision Tree Regressor with max_depth=5 and compare its performance with an unrestricted tree."
      ],
      "metadata": {
        "id": "O5kTUcYBeaHt"
      }
    },
    {
      "cell_type": "code",
      "source": [
        "regressor_depth5 = DecisionTreeRegressor(max_depth=5, random_state=42)\n",
        "regressor_depth5.fit(X_train_h, y_train_h)\n",
        "y_pred_depth5 = regressor_depth5.predict(X_test_h)\n",
        "mse_depth5 = mean_squared_error(y_test_h, y_pred_depth5)\n",
        "\n",
        "regressor_full = DecisionTreeRegressor(random_state=42)\n",
        "regressor_full.fit(X_train_h, y_train_h)\n",
        "y_pred_full = regressor_full.predict(X_test_h)\n",
        "mse_full = mean_squared_error(y_test_h, y_pred_full)\n",
        "\n",
        "print(\"MSE with max_depth=5:\", mse_depth5)\n",
        "print(\"MSE with full tree:\", mse_full)\n"
      ],
      "metadata": {
        "colab": {
          "base_uri": "https://localhost:8080/"
        },
        "id": "S7mv6cf3eccn",
        "outputId": "e47f16a2-3b04-458b-8ec9-886bf0698efe"
      },
      "execution_count": null,
      "outputs": [
        {
          "output_type": "stream",
          "name": "stdout",
          "text": [
            "MSE with max_depth=5: 0.5245146178314735\n",
            "MSE with full tree: 0.495235205629094\n"
          ]
        }
      ]
    },
    {
      "cell_type": "markdown",
      "source": [
        "Q.27 Write a Python program to train a Decision Tree Classifier, apply Cost Complexity Pruning (CCP), and visualize its effect on accuracy."
      ],
      "metadata": {
        "id": "Owso8p5xehgH"
      }
    },
    {
      "cell_type": "code",
      "source": [
        "path = model.cost_complexity_pruning_path(X_train, y_train)\n",
        "ccp_alphas, impurities = path.ccp_alphas, path.impurities\n",
        "\n",
        "accuracies = []\n",
        "for ccp_alpha in ccp_alphas:\n",
        "    clf = DecisionTreeClassifier(random_state=42, ccp_alpha=ccp_alpha)\n",
        "    clf.fit(X_train, y_train)\n",
        "    y_pred = clf.predict(X_test)\n",
        "    accuracies.append(accuracy_score(y_test, y_pred))\n",
        "\n",
        "import matplotlib.pyplot as plt\n",
        "plt.plot(ccp_alphas, accuracies, marker='o')\n",
        "plt.xlabel(\"ccp_alpha\")\n",
        "plt.ylabel(\"Accuracy\")\n",
        "plt.title(\"Accuracy vs CCP Alpha\")\n",
        "plt.show()\n"
      ],
      "metadata": {
        "colab": {
          "base_uri": "https://localhost:8080/",
          "height": 472
        },
        "id": "iyLtsOemej6F",
        "outputId": "bab8bc2c-2571-4979-e0e2-5540ca4b5c4a"
      },
      "execution_count": null,
      "outputs": [
        {
          "output_type": "display_data",
          "data": {
            "text/plain": [
              "<Figure size 640x480 with 1 Axes>"
            ],
            "image/png": "[encoded data removed]"
          },
          "metadata": {}
        }
      ]
    },
    {
      "cell_type": "markdown",
      "source": [
        "Q.28 Write a Python program to train a Decision Tree Classifier and evaluate its performance using Precision, Recall, and F1-Score."
      ],
      "metadata": {
        "id": "O1t7LNSfeluN"
      }
    },
    {
      "cell_type": "code",
      "source": [
        "from sklearn.metrics import precision_score, recall_score, f1_score\n",
        "\n",
        "model = DecisionTreeClassifier(random_state=42)\n",
        "model.fit(X_train, y_train)\n",
        "y_pred = model.predict(X_test)\n",
        "\n",
        "print(\"Precision:\", precision_score(y_test, y_pred, average='macro'))\n",
        "print(\"Recall:\", recall_score(y_test, y_pred, average='macro'))\n",
        "print(\"F1-Score:\", f1_score(y_test, y_pred, average='macro'))\n"
      ],
      "metadata": {
        "colab": {
          "base_uri": "https://localhost:8080/"
        },
        "id": "lSV_BXl2eqMG",
        "outputId": "d8829faf-fa9d-4504-e738-6650e4a744f6"
      },
      "execution_count": null,
      "outputs": [
        {
          "output_type": "stream",
          "name": "stdout",
          "text": [
            "Precision: 1.0\n",
            "Recall: 1.0\n",
            "F1-Score: 1.0\n"
          ]
        }
      ]
    },
    {
      "cell_type": "markdown",
      "source": [
        "Q.29 Write a Python program to train a Decision Tree Classifier and visualize the confusion matrix using seaborn."
      ],
      "metadata": {
        "id": "H7ynqJgHetB9"
      }
    },
    {
      "cell_type": "code",
      "source": [
        "import seaborn as sns\n",
        "from sklearn.metrics import confusion_matrix\n",
        "import matplotlib.pyplot as plt\n",
        "\n",
        "model = DecisionTreeClassifier(random_state=42)\n",
        "model.fit(X_train, y_train)\n",
        "y_pred = model.predict(X_test)\n",
        "\n",
        "cm = confusion_matrix(y_test, y_pred)\n",
        "sns.heatmap(cm, annot=True, fmt='d', cmap='Blues', xticklabels=iris.target_names, yticklabels=iris.target_names)\n",
        "plt.xlabel('Predicted')\n",
        "plt.ylabel('Actual')\n",
        "plt.title('Confusion Matrix')\n",
        "plt.show()\n"
      ],
      "metadata": {
        "colab": {
          "base_uri": "https://localhost:8080/",
          "height": 472
        },
        "id": "A3zj082Jetue",
        "outputId": "60227274-8a1e-483b-81a4-0ceb87628b20"
      },
      "execution_count": null,
      "outputs": [
        {
          "output_type": "display_data",
          "data": {
            "text/plain": [
              "<Figure size 640x480 with 2 Axes>"
            ],
            "image/png": "[encoded data removed]"
          },
          "metadata": {}
        }
      ]
    },
    {
      "cell_type": "markdown",
      "source": [
        "Q.30 Write a Python program to train a Decision Tree Classifier and use GridSearchCV to find the optimal values for max_depth and min_samples_split."
      ],
      "metadata": {
        "id": "gXDY1IGqexve"
      }
    },
    {
      "cell_type": "code",
      "source": [
        "from sklearn.model_selection import GridSearchCV\n",
        "\n",
        "param_grid = {'max_depth': [2, 3, 4, 5], 'min_samples_split': [2, 5, 10]}\n",
        "grid_search = GridSearchCV(DecisionTreeClassifier(random_state=42), param_grid, cv=5)\n",
        "grid_search.fit(X_train, y_train)\n",
        "\n",
        "print(\"Best Parameters:\", grid_search.best_params_)\n",
        "print(\"Best Accuracy:\", grid_search.best_score_)\n"
      ],
      "metadata": {
        "colab": {
          "base_uri": "https://localhost:8080/"
        },
        "id": "QTPYV9LAe5m_",
        "outputId": "2cc864aa-3edc-4fbd-b80a-c97671dfe473"
      },
      "execution_count": null,
      "outputs": [
        {
          "output_type": "stream",
          "name": "stdout",
          "text": [
            "Best Parameters: {'max_depth': 4, 'min_samples_split': 2}\n",
            "Best Accuracy: 0.9416666666666668\n"
          ]
        }
      ]
    },
    {
      "cell_type": "markdown",
      "source": [],
      "metadata": {
        "id": "NZMc2sVse62e"
      }
    }
  ]
}